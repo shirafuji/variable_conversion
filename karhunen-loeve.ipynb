{
 "cells": [
  {
   "cell_type": "markdown",
   "metadata": {},
   "source": [
    "# KL変換の説明用サンプルコード\n",
    "多次元のベクトルをできるだけ元の情報を失わないように次元を削減しより少ないベクトルで表現しようというもの\n",
    "2次元から1次元への変換を行うプログラム\n",
    "まだちゃんと理解できていないです"
   ]
  },
  {
   "cell_type": "code",
   "execution_count": 3,
   "metadata": {},
   "outputs": [
    {
     "name": "stdout",
     "output_type": "stream",
     "text": [
      "[[38.1475 27.095 ]\n",
      " [27.095  36.09  ]]\n",
      "[[38.1475  0.    ]\n",
      " [ 0.     36.09  ]]\n"
     ]
    },
    {
     "data": {
      "image/png": "[encoded data removed]",
      "text/plain": [
       "<Figure size 432x288 with 2 Axes>"
      ]
     },
     "metadata": {
      "needs_background": "light"
     },
     "output_type": "display_data"
    }
   ],
   "source": [
    "import numpy as np\n",
    "from matplotlib import pyplot as plt\n",
    "\n",
    "#testデータ作成\n",
    "data_x1 =  np.random.randint(low=0, high=10, size=10)\n",
    "data_y1 = np.random.randint(low=0, high=10, size=10)\n",
    "data_x2 =  np.random.randint(low=10, high=20, size=10)\n",
    "data_y2 = np.random.randint(low=10, high=20, size=10)\n",
    "\n",
    "w1 = np.c_[data_x1,data_y1]\n",
    "w2 = np.c_[data_x2,data_y2]\n",
    "\n",
    "w = np.vstack([w1,w2])\n",
    "\n",
    "#KL展開\n",
    "\n",
    "sigma = np.zeros([2,2])\n",
    "#共分散\n",
    "for i in w:\n",
    "\tsigma += np.dot(np.matrix(i - w.mean(0)).T,np.matrix((i-w.mean(0))))\n",
    "sigma = sigma/w.shape[0]\n",
    "print(sigma)\n",
    "#対角化\n",
    "tai = np.diag(np.diag(sigma))\n",
    "print(tai)\n",
    "#固有値固有ベクトルを出し変換行列の導出\n",
    "wa,wv = np.linalg.eig(tai)\n",
    "sort = np.argsort(wa)\n",
    "A = np.matrix(wv[sort[-1]])\n",
    "\n",
    "y = np.array([np.dot(A,np.matrix(row).T)for row in w])\n",
    "#グラフにプロット\n",
    "plt.subplot(2,1,1)\n",
    "plt.scatter(data_x1,data_y1,marker='o',color='g',s=10)\n",
    "plt.scatter(data_x2,data_y2,marker='o',color='r',s=10)\n",
    "\n",
    "plt.subplot(2,1,2)\n",
    "plt.scatter(y[:10],np.zeros(10),marker='o',color='g',s=10)\n",
    "plt.scatter(y[10:],np.zeros(10),marker='o',color='r',s=10)\n",
    "\n",
    "plt.show()"
   ]
  },
  {
   "cell_type": "code",
   "execution_count": null,
   "metadata": {},
   "outputs": [],
   "source": []
  }
 ],
 "metadata": {
  "kernelspec": {
   "display_name": "Python 3",
   "language": "python",
   "name": "python3"
  },
  "language_info": {
   "codemirror_mode": {
    "name": "ipython",
    "version": 3
   },
   "file_extension": ".py",
   "mimetype": "text/x-python",
   "name": "python",
   "nbconvert_exporter": "python",
   "pygments_lexer": "ipython3",
   "version": "3.7.7"
  }
 },
 "nbformat": 4,
 "nbformat_minor": 4
}
